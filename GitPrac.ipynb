{
  "nbformat": 4,
  "nbformat_minor": 0,
  "metadata": {
    "colab": {
      "provenance": [],
      "authorship_tag": "ABX9TyOHWf43JrRYJ83gmpNi3PzB",
      "include_colab_link": true
    },
    "kernelspec": {
      "name": "python3",
      "display_name": "Python 3"
    },
    "language_info": {
      "name": "python"
    }
  },
  "cells": [
    {
      "cell_type": "markdown",
      "metadata": {
        "id": "view-in-github",
        "colab_type": "text"
      },
      "source": [
        "<a href=\"https://colab.research.google.com/github/BhushanDDS/AIML_2024/blob/main/GitPrac.ipynb\" target=\"_parent\"><img src=\"https://colab.research.google.com/assets/colab-badge.svg\" alt=\"Open In Colab\"/></a>"
      ]
    },
    {
      "cell_type": "markdown",
      "source": [
        "LinearRegression One Variable ***bold text*** **bold text**"
      ],
      "metadata": {
        "id": "fveAWo9_TxQX"
      }
    },
    {
      "cell_type": "code",
      "source": [
        "#linear regression : single variable\n",
        "import numpy as np\n",
        "import pandas as pd\n",
        "from sklearn import linear_model\n",
        "from matplotlib import pyplot as plt\n",
        "url=\"https://raw.githubusercontent.com/codebasics/py/master/ML/1_linear_reg/homeprices.csv\"\n",
        "hp=pd.read_csv(url)\n",
        "#plt.scatter(hp.area,hp.price,color=\"r\",marker=\"*\")\n",
        "#plt.show()\n",
        "\n",
        "\n",
        "rg=linear_model.LinearRegression()\n",
        "rg.fit(hp[['area']],hp.price)\n",
        "rg.predict([[3300]])\n",
        "\n"
      ],
      "metadata": {
        "id": "v2s6o1J4R7GH"
      },
      "execution_count": null,
      "outputs": []
    },
    {
      "cell_type": "code",
      "source": [],
      "metadata": {
        "id": "JtSw_2A2dPSo"
      },
      "execution_count": null,
      "outputs": []
    },
    {
      "cell_type": "markdown",
      "source": [
        "LR      Multiple Variables"
      ],
      "metadata": {
        "id": "qdrL9QldT5pU"
      }
    },
    {
      "cell_type": "code",
      "source": [
        "#linear regression : multiple variable\n",
        "import numpy as np\n",
        "import pandas as pd\n",
        "from sklearn import linear_model\n",
        "from matplotlib import pyplot as plt\n",
        "\n",
        "url=\"https://raw.githubusercontent.com/codebasics/py/master/ML/2_linear_reg_multivariate/homeprices.csv\"\n",
        "hp=pd.read_csv(url)\n",
        "\n",
        "#removing Nan\n",
        "hp.bedrooms=hp.bedrooms.fillna(hp.bedrooms.median())\n",
        "\n",
        "rg=linear_model.LinearRegression()\n",
        "rg.fit(hp[['area','bedrooms','age']],hp.price)\n",
        "\n",
        "rg.predict([[3000,3,40]])\n"
      ],
      "metadata": {
        "id": "ZPyGplVBT9wH"
      },
      "execution_count": null,
      "outputs": []
    },
    {
      "cell_type": "markdown",
      "source": [
        "KNN\n"
      ],
      "metadata": {
        "id": "2rIXySEkXNYw"
      }
    },
    {
      "cell_type": "code",
      "source": [
        "\n",
        "import pandas as pd\n",
        "import numpy as np\n",
        "import matplotlib.pyplot as plt\n",
        "from sklearn import linear_model\n",
        "from sklearn.model_selection import train_test_split\n",
        "from sklearn.neighbors import KNeighborsClassifier\n",
        "\n",
        "url =\"https://gist.githubusercontent.com/curran/a08a1080b88344b0c8a7/raw/0e7a9b0a5d22642a06d3d5b9bcbad9890c8ee534/iris.csv\"\n",
        "data=pd.read_csv(url)\n",
        "\n",
        "iris1=data[:50]\n",
        "iris2=data[50:100]\n",
        "iris3=data[100:]\n",
        "\n",
        "plt.scatter(iris1.sepal_length,iris1.sepal_width,color=\"r\")\n",
        "plt.scatter(iris2.sepal_length,iris2.sepal_width,color=\"b\")\n",
        "\n",
        "\n",
        "X=data.drop('species',axis=1)\n",
        "Y=data[['species']]\n",
        "\n",
        "X_train,X_test,y_train,y_test=train_test_split(X,Y,train_size=0.8)\n",
        "\n",
        "knn=KNeighborsClassifier()\n",
        "\n",
        "knn.fit(X_train,y_train)\n",
        "\n",
        "knn.predict(X_test)\n",
        "\n",
        "knn.score(X_test,y_test)\n",
        "\n",
        "knn.predict([[3.3,4.5,1.3,5.0]])"
      ],
      "metadata": {
        "id": "D-5V0ox5XOoe"
      },
      "execution_count": null,
      "outputs": []
    },
    {
      "cell_type": "markdown",
      "source": [
        "logistic\n"
      ],
      "metadata": {
        "id": "TzczSPo-XvYu"
      }
    },
    {
      "cell_type": "code",
      "source": [
        "import numpy as np\n",
        "import matplotlib.pyplot as plt\n",
        "import pandas as pd\n",
        "from sklearn import linear_model\n",
        "from sklearn.model_selection import train_test_split\n",
        "from sklearn.linear_model import LogisticRegression\n",
        "\n",
        "url=\"https://raw.githubusercontent.com/WamanParulekar/AIML/main/lic.csv\"\n",
        "\n",
        "data=pd.read_csv(url)\n",
        "\n",
        "\n",
        "X_train,X_test,y_train,y_test=train_test_split(data[['age']],data.lic_member,train_size=0.8)\n",
        "\n",
        "lr=LogisticRegression()\n",
        "lr.fit(X_train,y_train)\n",
        "\n",
        "\n",
        "lr.predict(X_test)\n",
        "\n",
        "\n",
        "lr.score(X_test,y_test)\n",
        "\n",
        "lr.predict([[24]])"
      ],
      "metadata": {
        "id": "nEP-TIYxXxVy"
      },
      "execution_count": null,
      "outputs": []
    },
    {
      "cell_type": "markdown",
      "source": [
        "Kmeans\n"
      ],
      "metadata": {
        "id": "VGKRkUuyYEZm"
      }
    },
    {
      "cell_type": "code",
      "source": [
        "from sklearn.cluster import KMeans\n",
        "import pandas as pd\n",
        "from sklearn.preprocessing import MinMaxScaler\n",
        "from matplotlib import pyplot as plt\n",
        "\n",
        "url='https://raw.githubusercontent.com/codebasics/py/master/ML/13_kmeans/income.csv'\n",
        "\n",
        "df=pd.read_csv(url)\n",
        "\n",
        "plt.scatter(df.Age,df['Income($)'])\n",
        "plt.xlabel('Age')\n",
        "plt.ylabel('Income($)')\n",
        "\n",
        "km=KMeans(n_clusters=3)\n",
        "y_predicted=km.fit_predict(df[['Age','Income($)']])\n",
        "\n",
        "df['cluster']=y_predicted\n",
        "df.head()\n",
        "\n",
        "km.cluster_centers_\n",
        "\n",
        "df1=df[df.cluster==0]\n",
        "df2=df[df.cluster==1]\n",
        "df3=df[df.cluster==2]\n",
        "\n",
        "plt.scatter(df1.Age,df1['Income($)'],color='r')\n",
        "plt.scatter(df2.Age,df2['Income($)'],color='b')\n",
        "plt.scatter(df3.Age,df3['Income($)'],color='g')\n",
        "\n",
        "scaler=MinMaxScaler()\n",
        "\n",
        "scaler.fit(df[['Income($)']])\n",
        "df['Income($)']=scaler.transform(df[['Income($)']])\n",
        "\n",
        "scaler.fit(df[['Age']])\n",
        "df['Age']=scaler.transform(df[['Age']])\n",
        "\n",
        "df.head()\n",
        "\n",
        "km=KMeans(n_clusters=3)\n",
        "y_predicted=km.fit_predict(df[['Age','Income($)']])\n",
        "\n",
        "df['cluster']=y_predicted\n",
        "df.head()\n",
        "\n",
        "km.cluster_centers_\n",
        "\n",
        "df1=df[df.cluster==0]\n",
        "df2=df[df.cluster==1]\n",
        "df3=df[df.cluster==2]\n",
        "plt.scatter(df1.Age,df1['Income($)'],color='r')\n",
        "plt.scatter(df2.Age,df2['Income($)'],color='b')\n",
        "plt.scatter(df3.Age,df3['Income($)'],color='g')\n",
        "\n",
        "\n"
      ],
      "metadata": {
        "id": "UfblnG-jYFlr"
      },
      "execution_count": null,
      "outputs": []
    },
    {
      "cell_type": "markdown",
      "source": [
        "SVM"
      ],
      "metadata": {
        "id": "qLjbBw0RZ8xm"
      }
    },
    {
      "cell_type": "code",
      "source": [
        "import pandas as pd\n",
        "import numpy as np\n",
        "import matplotlib.pyplot as plt\n",
        "from sklearn.model_selection import train_test_split\n",
        "from sklearn.svm import SVC\n",
        "\n",
        "url =\"https://gist.githubusercontent.com/curran/a08a1080b88344b0c8a7/raw/0e7a9b0a5d22642a06d3d5b9bcbad9890c8ee534/iris.csv\"\n",
        "\n",
        "iris=pd.read_csv(url)\n",
        "iris.head()\n",
        "iris1=iris.drop(['species'],axis='columns')\n",
        "iris2=iris1[0:50]\n",
        "iris3=iris1[50:100]\n",
        "\n",
        "plt.scatter(iris2.sepal_length,iris2.sepal_width)\n",
        "plt.scatter(iris3.sepal_length,iris3.sepal_width)\n",
        "\n",
        "X_train,X_test,y_train,y_test=train_test_split(iris1,iris['species'],train_size=0.8)\n",
        "\n",
        "model=SVC()\n",
        "model.fit(X_train,y_train)\n",
        "\n",
        "model.predict([[5.1,3.5,1.4,0.2]])"
      ],
      "metadata": {
        "colab": {
          "base_uri": "https://localhost:8080/",
          "height": 505
        },
        "id": "0HwEBphUZ-D7",
        "outputId": "bc12710d-ea9e-475c-b096-62a7c25e6dd4"
      },
      "execution_count": 59,
      "outputs": [
        {
          "output_type": "stream",
          "name": "stderr",
          "text": [
            "/usr/local/lib/python3.10/dist-packages/sklearn/base.py:439: UserWarning: X does not have valid feature names, but SVC was fitted with feature names\n",
            "  warnings.warn(\n"
          ]
        },
        {
          "output_type": "execute_result",
          "data": {
            "text/plain": [
              "array(['setosa'], dtype=object)"
            ]
          },
          "metadata": {},
          "execution_count": 59
        },
        {
          "output_type": "display_data",
          "data": {
            "text/plain": [
              "<Figure size 640x480 with 1 Axes>"
            ],
            "image/png": "[encoded data removed]"
          },
          "metadata": {}
        }
      ]
    },
    {
      "cell_type": "markdown",
      "source": [
        "ADABOOST"
      ],
      "metadata": {
        "id": "MT7O3Erjacoz"
      }
    },
    {
      "cell_type": "code",
      "source": [
        "import pandas as pd\n",
        "from sklearn.ensemble import AdaBoostClassifier\n",
        "from sklearn.preprocessing import LabelEncoder\n",
        "from sklearn.tree import DecisionTreeClassifier\n",
        "from sklearn import metrics\n",
        "url=\"https://raw.githubusercontent.com/stedy/Machine-Learning-with-R-datasets/master/mushrooms.csv\"\n",
        "\n",
        "dataset=pd.read_csv(url)\n",
        "\n",
        "dataset.columns=['type','cap_shape','cap_surface','cap_color','bruises','odor','gill_attachment','gill_spacing','gill_size','gill_color','stalk_shape','stalk_root','stalk_surface_above_ring','stalk_surface_below_ring','stalk_color_above_ring','stalk_color_below_ring','veil_type','veil_color','ring_number','ring_type','spore_print_color','population','habitat']\n",
        "\n",
        "for label in dataset.columns:\n",
        "    dataset[label]=LabelEncoder().fit(dataset[label]).transform(dataset[label])\n",
        "\n",
        "print(dataset.info())\n",
        "\n",
        "X=dataset.drop(['type'],axis=1)\n",
        "Y=dataset['type']\n",
        "X_train,X_test,Y_train,Y_test=train_test_split(X,Y,test_size=0.3)\n",
        "model=DecisionTreeClassifier(criterion='entropy',max_depth=1)\n",
        "AdaBoost=AdaBoostClassifier(base_estimator=model,n_estimators=400,learning_rate=1)\n",
        "boostmodel=AdaBoost.fit(X_train,Y_train)\n",
        "y_pred=boostmodel.predict(X_test)\n",
        "predictions=metrics.accuracy_score(Y_test,y_pred)\n",
        "print (\"The Accuracy IS : \",predictions*100,'%')\n",
        "\n",
        "\n",
        "\n"
      ],
      "metadata": {
        "id": "qupPj7qGaeTW"
      },
      "execution_count": null,
      "outputs": []
    },
    {
      "cell_type": "markdown",
      "source": [
        "Bagging-------DT"
      ],
      "metadata": {
        "id": "SkO0miZKcLs-"
      }
    },
    {
      "cell_type": "code",
      "source": [
        "import pandas as pd\n",
        "from sklearn.preprocessing import LabelEncoder\n",
        "url=\"https://raw.githubusercontent.com/codebasics/py/master/ML/9_decision_tree/salaries.csv\"\n",
        "df=pd.read_csv(url)\n",
        "inp=df.drop(['salary_more_then_100k'],axis=\"columns\")\n",
        "trgt=df['salary_more_then_100k']\n",
        "lbl_company=LabelEncoder()\n",
        "lbl_job=LabelEncoder()\n",
        "lbl_degree=LabelEncoder()\n",
        "inp['company_new']=lbl_company.fit_transform(inp['company'])\n",
        "inp['job_new']=lbl_company.fit_transform(inp['job'])\n",
        "inp['degree_new']=lbl_company.fit_transform(inp['degree'])\n",
        "inp_new=inp.drop(['company','job','degree'],axis='columns')\n",
        "from sklearn import tree\n",
        "tree_model=tree.DecisionTreeClassifier()\n",
        "tree_model.fit(inp_new,trgt)\n",
        "\n",
        "\n",
        "tree_model.predict([[2,1,0]])\n",
        "tree_model.predict([[2,1,1]])"
      ],
      "metadata": {
        "colab": {
          "base_uri": "https://localhost:8080/"
        },
        "id": "OIGwGR_1cOhh",
        "outputId": "6895f587-36fd-4e23-ae83-0f4de079b435"
      },
      "execution_count": 63,
      "outputs": [
        {
          "output_type": "stream",
          "name": "stderr",
          "text": [
            "/usr/local/lib/python3.10/dist-packages/sklearn/base.py:439: UserWarning: X does not have valid feature names, but DecisionTreeClassifier was fitted with feature names\n",
            "  warnings.warn(\n",
            "/usr/local/lib/python3.10/dist-packages/sklearn/base.py:439: UserWarning: X does not have valid feature names, but DecisionTreeClassifier was fitted with feature names\n",
            "  warnings.warn(\n"
          ]
        },
        {
          "output_type": "execute_result",
          "data": {
            "text/plain": [
              "array([1])"
            ]
          },
          "metadata": {},
          "execution_count": 63
        }
      ]
    },
    {
      "cell_type": "markdown",
      "source": [
        "Random Forest"
      ],
      "metadata": {
        "id": "FNLVkYUkdDSt"
      }
    },
    {
      "cell_type": "code",
      "source": [
        "import pandas as pd\n",
        "import numpy as np\n",
        "from sklearn.model_selection import train_test_split\n",
        "from sklearn.ensemble import RandomForestClassifier\n",
        "url =\"https://gist.githubusercontent.com/curran/a08a1080b88344b0c8a7/raw/0e7a9b0a5d22642a06d3d5b9bcbad9890c8ee534/iris.csv\"\n",
        "iris=pd.read_csv(url)\n",
        "X_train, X_test, y_train, y_test = train_test_split(iris.drop(['species'], axis='columns'), iris[['species']], train_size=0.8)\n",
        "RFC=RandomForestClassifier()\n",
        "RFC.fit(X_train,y_train)\n",
        "RFC.predict([[4.8,3.0,1.5,0.3]])\n"
      ],
      "metadata": {
        "colab": {
          "base_uri": "https://localhost:8080/"
        },
        "id": "MWASWOsZdFKT",
        "outputId": "91009346-516d-44e5-94b3-1ddd527b735d"
      },
      "execution_count": 64,
      "outputs": [
        {
          "output_type": "stream",
          "name": "stderr",
          "text": [
            "<ipython-input-64-75d4caddfd1d>:9: DataConversionWarning: A column-vector y was passed when a 1d array was expected. Please change the shape of y to (n_samples,), for example using ravel().\n",
            "  RFC.fit(X_train,y_train)\n",
            "/usr/local/lib/python3.10/dist-packages/sklearn/base.py:439: UserWarning: X does not have valid feature names, but RandomForestClassifier was fitted with feature names\n",
            "  warnings.warn(\n"
          ]
        },
        {
          "output_type": "execute_result",
          "data": {
            "text/plain": [
              "array(['setosa'], dtype=object)"
            ]
          },
          "metadata": {},
          "execution_count": 64
        }
      ]
    }
  ]
}